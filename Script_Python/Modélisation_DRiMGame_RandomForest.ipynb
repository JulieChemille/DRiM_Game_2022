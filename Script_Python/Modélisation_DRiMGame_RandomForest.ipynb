{
  "cells": [
    {
      "cell_type": "markdown",
      "metadata": {
        "id": "Q2RHrxlrdB8r"
      },
      "source": [
        "## **Modélisation Random Forest sur la base de données du DRiM Game**\n",
        "\n",
        "---\n",
        "\n",
        "\n",
        "\n"
      ]
    },
    {
      "cell_type": "code",
      "execution_count": null,
      "metadata": {
        "id": "Okvoa-ynzT9-"
      },
      "outputs": [],
      "source": [
        "from google.colab import files\n",
        "files.upload() #charger les 3 bases de données, ou seulement tot_statio"
      ]
    },
    {
      "cell_type": "code",
      "execution_count": 8,
      "metadata": {
        "id": "VNXd6qor0DAm"
      },
      "outputs": [],
      "source": [
        "import os\n",
        "import seaborn as sns\n",
        "import pandas as pd\n",
        "import numpy as np\n",
        "import matplotlib.pyplot as plt\n",
        "from sklearn.ensemble import RandomForestRegressor\n",
        "from sklearn.model_selection import GridSearchCV\n",
        "from sklearn.metrics import mean_squared_error\n",
        "\n",
        "import warnings\n",
        "\n",
        "# Supprimer les wanings\n",
        "warnings.filterwarnings(\"ignore\")\n",
        "\n"
      ]
    },
    {
      "cell_type": "markdown",
      "metadata": {
        "id": "XJ2E3nez2WzV"
      },
      "source": [
        "*  **Importation des bases de données et vérification**\n",
        "\n"
      ]
    },
    {
      "cell_type": "code",
      "execution_count": 3,
      "metadata": {
        "id": "jqqIeAiQGLbS"
      },
      "outputs": [],
      "source": [
        "db_chr2 = pd.read_excel('chr2_less_diff.xlsx')\n",
        "db_chr8 = pd.read_excel('chr8_less_diff.xlsx')\n",
        "db_tot = pd.read_excel('tot_less_diff.xlsx')\n",
        "\n",
        "db_tot = pd.DataFrame(data=db_tot)\n",
        "db_chr8 = pd.DataFrame(data=db_chr8)\n",
        "db_chr2 = pd.DataFrame(data=db_chr2)\n",
        "\n",
        "#On se concentrera pour l'instant sur la base de données \"db_tot\"\n",
        "#où les individus mal classés et bien classés ne sont pas séparés"
      ]
    },
    {
      "cell_type": "code",
      "source": [
        "print(\"db_tot :\", db_tot.shape)\n",
        "print(\"db_chr8 :\",db_chr8.shape)\n",
        "print(\"db_chr2 :\",db_chr2.shape)"
      ],
      "metadata": {
        "colab": {
          "base_uri": "https://localhost:8080/"
        },
        "id": "TLnckO0MwO9s",
        "outputId": "0f343742-842a-41f9-9b2b-31fe5b5462ec"
      },
      "execution_count": 4,
      "outputs": [
        {
          "output_type": "stream",
          "name": "stdout",
          "text": [
            "db_tot : (33, 72)\n",
            "db_chr8 : (33, 84)\n",
            "db_chr2 : (33, 80)\n"
          ]
        }
      ]
    },
    {
      "cell_type": "markdown",
      "source": [
        "## Modélisation RF sur Base_tot"
      ],
      "metadata": {
        "id": "Z5IwjNoPvv-6"
      }
    },
    {
      "cell_type": "markdown",
      "source": [
        "*  **Préparation de nos jeux tests set d'entraînement pour BASE_TOT**\n",
        "\n"
      ],
      "metadata": {
        "id": "Px9TYXHkpX-L"
      }
    },
    {
      "cell_type": "code",
      "execution_count": 55,
      "metadata": {
        "id": "Q17HoAB0OVsH"
      },
      "outputs": [],
      "source": [
        "# On créé notre X (tous nos predicteurs)\n",
        "X = db_tot.iloc[:,1:] \n",
        "# On créé notre y (unicolonne)\n",
        "y = db_tot.iloc[:,0] \n",
        "\n",
        "# Jeu d'entrainement\n",
        "X_train = X.iloc[:24,:] \n",
        "y_train = y.iloc[:24]\n",
        "\n",
        "# Jeu test\n",
        "# On garde les 8 dernières observations pour les prévisions\n",
        "X_test = X.iloc[25:,:] \n",
        "y_test = y.iloc[25:]"
      ]
    },
    {
      "cell_type": "code",
      "source": [
        "# Créer un modèle de forêt aléatoire en spécifiant les hyperparamètres souhaités\n",
        "rf = RandomForestRegressor(random_state=1212)\n",
        "rf.fit(X_train, y_train)"
      ],
      "metadata": {
        "colab": {
          "base_uri": "https://localhost:8080/"
        },
        "id": "z4OcRgPCJk6Q",
        "outputId": "40472350-d0ca-4ad3-a2fb-7c7b1977f650"
      },
      "execution_count": 56,
      "outputs": [
        {
          "output_type": "execute_result",
          "data": {
            "text/plain": [
              "RandomForestRegressor(random_state=1212)"
            ]
          },
          "metadata": {},
          "execution_count": 56
        }
      ]
    },
    {
      "cell_type": "code",
      "execution_count": 57,
      "metadata": {
        "id": "lIa955cHfkSg",
        "colab": {
          "base_uri": "https://localhost:8080/"
        },
        "outputId": "2be623d9-c304-4a4d-a112-15b279236672"
      },
      "outputs": [
        {
          "output_type": "stream",
          "name": "stdout",
          "text": [
            "Nos prédictions sont : [0.01506558 0.02858461 0.02740745 0.03830434 0.03882826 0.03899038\n",
            " 0.03489903 0.04266627]\n"
          ]
        }
      ],
      "source": [
        "y_pred = rf.predict(X_test)\n",
        "print(\"Nos prédictions sont :\", y_pred)"
      ]
    },
    {
      "cell_type": "code",
      "execution_count": 58,
      "metadata": {
        "id": "zHcYyNb8fqiL"
      },
      "outputs": [],
      "source": [
        "#Erreur quadratique moyenne\n",
        "MSE_0 = mean_squared_error(y_test, y_pred)"
      ]
    },
    {
      "cell_type": "code",
      "execution_count": 59,
      "metadata": {
        "id": "mGtv9e46f6at"
      },
      "outputs": [],
      "source": [
        "#Racine carrée de notre MSE\n",
        "RMSE_0 = np.sqrt(mean_squared_error(y_test,y_pred)) "
      ]
    },
    {
      "cell_type": "markdown",
      "source": [
        "\n",
        "* **Etude de l'importance des variables**"
      ],
      "metadata": {
        "id": "x6ap4Vcm0XJb"
      }
    },
    {
      "cell_type": "code",
      "execution_count": 60,
      "metadata": {
        "id": "5xz-mzn5IaIj"
      },
      "outputs": [],
      "source": [
        "#!pip install shap"
      ]
    },
    {
      "cell_type": "code",
      "execution_count": 61,
      "metadata": {
        "colab": {
          "base_uri": "https://localhost:8080/"
        },
        "id": "10F0g9T2JHvk",
        "outputId": "f4f3f6dd-12c9-42eb-cd47-50adbb14bba2"
      },
      "outputs": [
        {
          "output_type": "execute_result",
          "data": {
            "text/plain": [
              "p25_DUR_IMP_ENC          0.119734\n",
              "p5_DER_NOT_OCT_RCAL      0.097778\n",
              "mean_DUR_MAX_ENC         0.052998\n",
              "CD_QUAL_VEH_1            0.051026\n",
              "p95_RAT_APPO             0.049744\n",
              "                           ...   \n",
              "p75_RAT_RAN_IMP_Z_DUR    0.000246\n",
              "p95_DUR_DER_IMP_REGUL    0.000170\n",
              "PIB                      0.000121\n",
              "clim_emp                 0.000108\n",
              "p5_RAT_APPO              0.000000\n",
              "Length: 71, dtype: float64"
            ]
          },
          "metadata": {},
          "execution_count": 61
        }
      ],
      "source": [
        "feature_scores = pd.Series(rf.feature_importances_, index=X_train.columns).sort_values(ascending=False)\n",
        "feature_scores"
      ]
    },
    {
      "cell_type": "code",
      "execution_count": 62,
      "metadata": {
        "id": "nfo1UwKq0fpM",
        "colab": {
          "base_uri": "https://localhost:8080/",
          "height": 782
        },
        "outputId": "639b7997-a323-4c26-ce01-dfdccacb44b3"
      },
      "outputs": [
        {
          "output_type": "display_data",
          "data": {
            "text/plain": [
              "<Figure size 2160x1728 with 1 Axes>"
            ],
            "image/png": "[encoded data removed]"
          },
          "metadata": {
            "needs_background": "light"
          }
        }
      ],
      "source": [
        "ax = plt.subplots(figsize=(30, 24))\n",
        "ax = sns.barplot(x=feature_scores, y=feature_scores.index, data=db_chr2)\n",
        "ax.set_title(\"Visualisation de l'importance des variables\")\n",
        "ax.set_yticklabels(feature_scores.index)\n",
        "ax.set_xlabel(\"Importance des variables\")\n",
        "ax.set_ylabel(\"Variables\")\n",
        "plt.show()"
      ]
    },
    {
      "cell_type": "code",
      "source": [
        "# On récupère nos 5 features avec l'importance la plus élevée\n",
        "indices = np.argsort(rf.feature_importances_)[-5:]\n",
        "print([X_train.columns[i] for i in indices])"
      ],
      "metadata": {
        "colab": {
          "base_uri": "https://localhost:8080/"
        },
        "id": "jVNShxOaH2xJ",
        "outputId": "739d2ea3-ec12-412e-e90d-2c1c48e41aa3"
      },
      "execution_count": 63,
      "outputs": [
        {
          "output_type": "stream",
          "name": "stdout",
          "text": [
            "['p95_RAT_APPO', 'CD_QUAL_VEH_1', 'mean_DUR_MAX_ENC', 'p5_DER_NOT_OCT_RCAL', 'p25_DUR_IMP_ENC']\n"
          ]
        }
      ]
    },
    {
      "cell_type": "code",
      "execution_count": 64,
      "metadata": {
        "colab": {
          "base_uri": "https://localhost:8080/"
        },
        "id": "8YObdfvOSDVA",
        "outputId": "82fe6575-43ca-4d15-f925-ac117be20207"
      },
      "outputs": [
        {
          "output_type": "stream",
          "name": "stdout",
          "text": [
            "La liste contient 14 variables que nous supprimons (importance trop faible)\n"
          ]
        }
      ],
      "source": [
        "# Créez une liste vide pour stocker les fonctionnalités à supprimer.\n",
        "list_feat_to_delete = []\n",
        "\n",
        "# Boucle sur les caractéristiques de l'ensemble de données\n",
        "for i, feat_name in enumerate(X_train.columns) :\n",
        "  # Vérifier si l'importance de la caractéristique est inférieure à 0.001\n",
        "  if rf.feature_importances_[i] < 0.001 :\n",
        "    # Si l'importance de la caractéristique est inférieure à 0,001, ajoutez la caractéristique à la liste.\n",
        "    list_feat_to_delete.append(feat_name)\n",
        "\n",
        "print(\"La liste contient\", len(list_feat_to_delete), \"variables que nous supprimons (importance trop faible)\")"
      ]
    },
    {
      "cell_type": "code",
      "execution_count": 65,
      "metadata": {
        "id": "t6WQAYUwbG4t"
      },
      "outputs": [],
      "source": [
        "# Suppression de ces variables\n",
        "X_train2 = X_train.drop(list_feat_to_delete, axis=1)\n",
        "X_test2 = X_test.drop(list_feat_to_delete, axis=1)"
      ]
    },
    {
      "cell_type": "code",
      "execution_count": 66,
      "metadata": {
        "id": "Jv5lO2hW3UCi"
      },
      "outputs": [],
      "source": [
        "rf.fit(X_train2, y_train)\n",
        "\n",
        "y_pred2 = rf.predict(X_test2)"
      ]
    },
    {
      "cell_type": "code",
      "execution_count": 67,
      "metadata": {
        "id": "2oNmyPupbE2Z",
        "colab": {
          "base_uri": "https://localhost:8080/"
        },
        "outputId": "ebd313b8-56ce-456f-cf9a-7cd4c897fb57"
      },
      "outputs": [
        {
          "output_type": "stream",
          "name": "stdout",
          "text": [
            "L'importance des variables nous a permis d'améliorer notre modèle : MSE_imp 0.0042 < MSE_0 0.0046\n"
          ]
        }
      ],
      "source": [
        "MSE_imp = mean_squared_error(y_test, y_pred2)\n",
        "\n",
        "#racine carrée de notre MSE\n",
        "RMSE_imp = np.sqrt(mean_squared_error(y_test,y_pred2)) \n",
        "\n",
        "if MSE_imp <= MSE_0:\n",
        "  print(\"L'importance des variables nous a permis d'améliorer notre modèle : MSE_imp\",round(MSE_imp,4),\"<\", \"MSE_0\", round(MSE_0,4))\n",
        "else:\n",
        "  print(\"Raté\",round(MSE_imp,2),\">\",round(MSE_0,2))\n"
      ]
    },
    {
      "cell_type": "markdown",
      "source": [
        "\n",
        "* **Amélioration de notre modèle grâce à la recherche des meilleurs hyperparamètres**\n",
        "\n",
        "\n",
        "\n"
      ],
      "metadata": {
        "id": "2xL9U5cizrHi"
      }
    },
    {
      "cell_type": "code",
      "execution_count": 68,
      "metadata": {
        "id": "MZp_5qC5bKK5",
        "colab": {
          "base_uri": "https://localhost:8080/"
        },
        "outputId": "de945c48-6f06-4e7f-b7eb-3bfb7170e1b8"
      },
      "outputs": [
        {
          "output_type": "execute_result",
          "data": {
            "text/plain": [
              "GridSearchCV(cv=5, estimator=RandomForestRegressor(),\n",
              "             param_grid={'max_depth': [2, 5, 10],\n",
              "                         'min_samples_split': [2, 5, 10],\n",
              "                         'n_estimators': [10, 100, 1000]},\n",
              "             scoring='f1')"
            ]
          },
          "metadata": {},
          "execution_count": 68
        }
      ],
      "source": [
        "# On crée notre grid search d'hyperparameter\n",
        "param_grid = {\n",
        "    'n_estimators': [10, 100, 1000],\n",
        "    'max_depth': [2, 5, 10],\n",
        "    'min_samples_split': [2, 5, 10],\n",
        "}\n",
        "\n",
        "# On initialise notre RF\n",
        "rf2 = RandomForestRegressor()\n",
        "\n",
        "grid_search = GridSearchCV(rf2, param_grid, cv=5, scoring='f1')\n",
        "grid_search.fit(X_train2, y_train)"
      ]
    },
    {
      "cell_type": "code",
      "source": [
        "#On garde le meilleur modèle et on refait un grid search uniquement sur ce modèle\n",
        "print(\"La meilleur combinaison d'estimateur est: \" + str(grid_search.best_params_))"
      ],
      "metadata": {
        "colab": {
          "base_uri": "https://localhost:8080/"
        },
        "id": "sLNgTgjzNN_b",
        "outputId": "f3eb7419-62c7-4092-f253-e861c81bf91b"
      },
      "execution_count": 69,
      "outputs": [
        {
          "output_type": "stream",
          "name": "stdout",
          "text": [
            "La meilleur combinaison d'estimateur est: {'max_depth': 2, 'min_samples_split': 2, 'n_estimators': 10}\n"
          ]
        }
      ]
    },
    {
      "cell_type": "code",
      "source": [
        "#On garde le meilleur modèle et on refait un grid search uniquement sur ce modèle\n",
        "rf2 = RandomForestRegressor(max_depth=2, min_samples_split=2, n_estimators=10)\n",
        "rf2.fit(X_train, y_train)"
      ],
      "metadata": {
        "colab": {
          "base_uri": "https://localhost:8080/"
        },
        "id": "-BpZzOMLfaE1",
        "outputId": "f4dd0e3f-a354-4993-be20-cc59aa3d191d"
      },
      "execution_count": 70,
      "outputs": [
        {
          "output_type": "execute_result",
          "data": {
            "text/plain": [
              "RandomForestRegressor(max_depth=2, n_estimators=10)"
            ]
          },
          "metadata": {},
          "execution_count": 70
        }
      ]
    },
    {
      "cell_type": "code",
      "source": [
        "y_pred_fit = rf2.predict(X_test)\n",
        "y_pred_fit"
      ],
      "metadata": {
        "colab": {
          "base_uri": "https://localhost:8080/"
        },
        "id": "IhGhrWOFhfh9",
        "outputId": "3507b151-e872-45b3-e7fd-b57edf3612c6"
      },
      "execution_count": 71,
      "outputs": [
        {
          "output_type": "execute_result",
          "data": {
            "text/plain": [
              "array([0.02018966, 0.02596693, 0.02331716, 0.02331716, 0.01692238,\n",
              "       0.04518542, 0.05054264, 0.07369172])"
            ]
          },
          "metadata": {},
          "execution_count": 71
        }
      ]
    },
    {
      "cell_type": "markdown",
      "source": [
        "On compare notre modèle amélioré avec notre meilleur modèle précédent "
      ],
      "metadata": {
        "id": "SfNJCpahiW3k"
      }
    },
    {
      "cell_type": "code",
      "source": [
        "MSE_fit = mean_squared_error(y_test, y_pred_fit)\n",
        "RMSE_fit = np.sqrt(mean_squared_error(y_test,y_pred_fit)) \n",
        "\n",
        "if MSE_0>MSE_imp:\n",
        "  if MSE_fit<=MSE_imp:\n",
        "    print(\"La recherche des hyperparamètres optimaux nous a permis d'améliorer notre modèle : MSE_fit\",round(MSE_fit,4),\"<\", \"MSE_imp\", round(MSE_imp,4))\n",
        "  else:\n",
        "    print(\"Raté\",round(MSE_fit,4),\">\",round(MSE_imp,4))   \n",
        "else:\n",
        "  if MSE_0<=MSE_imp:\n",
        "    print(\"La recherche des hyperparamètres optimaux nous a permis d'améliorer notre modèle : MSE_fit\",round(MSE_fit,4),\"<\", \"MSE_0\", round(MSE_0,4))\n",
        "  else:\n",
        "    print(\"Raté\",round(MSE_fit,4),\">\",round(MSE_0,4)) "
      ],
      "metadata": {
        "colab": {
          "base_uri": "https://localhost:8080/"
        },
        "id": "UFdOBxPXhDXu",
        "outputId": "0c042288-d661-48ad-fedf-164f2d170b75"
      },
      "execution_count": 72,
      "outputs": [
        {
          "output_type": "stream",
          "name": "stdout",
          "text": [
            "La recherche des hyperparamètres optimaux nous a permis d'améliorer notre modèle : MSE_fit 0.0034 < MSE_imp 0.0042\n"
          ]
        }
      ]
    },
    {
      "cell_type": "code",
      "source": [
        "if MSE_fit > MSE_0 and MSE_imp > MSE_0:\n",
        "  print(\"Nous gardons donc le modèle de base (0)\")\n",
        "elif MSE_fit > MSE_0 and MSE_imp < MSE_0:\n",
        "  print(\"Nous gardons donc le modèle basé sur l'importance des variables\")\n",
        "else:\n",
        "  print(\"Nous gardons le modèle qui combine le modèle tuné et l'importance des variables\")"
      ],
      "metadata": {
        "colab": {
          "base_uri": "https://localhost:8080/"
        },
        "id": "8gfXE1PYBPow",
        "outputId": "27b2cddc-a230-4cf1-da8a-1bb3e081dd52"
      },
      "execution_count": 73,
      "outputs": [
        {
          "output_type": "stream",
          "name": "stdout",
          "text": [
            "Nous gardons le modèle qui combine le modèle tuné et l'importance des variables\n"
          ]
        }
      ]
    },
    {
      "cell_type": "markdown",
      "source": [
        "## Modélisation RF sur Base_chr2"
      ],
      "metadata": {
        "id": "XyCgduwTvnrM"
      }
    },
    {
      "cell_type": "markdown",
      "source": [
        "*  **Préparation de nos jeux tests set d'entraînement pour BASE_CHR2**"
      ],
      "metadata": {
        "id": "UVFB5mdOqBk6"
      }
    },
    {
      "cell_type": "code",
      "source": [
        "# On créé notre X (tous nos predicteurs)\n",
        "X = db_chr2.iloc[:,1:] \n",
        "# On créé notre y (unicolonne)\n",
        "y = db_chr2.iloc[:,0] \n",
        "\n",
        "# Jeu d'entrainement\n",
        "X_train = X.iloc[:24,:] \n",
        "y_train = y.iloc[:24]\n",
        "\n",
        "# Jeu test\n",
        "# On garde les 8 dernières observations pour les prévisions\n",
        "X_test = X.iloc[25:,:] \n",
        "y_test = y.iloc[25:]"
      ],
      "metadata": {
        "id": "gpeLw5qdsfN-"
      },
      "execution_count": 104,
      "outputs": []
    },
    {
      "cell_type": "code",
      "source": [
        "# Créer un modèle de forêt aléatoire\n",
        "rf = RandomForestRegressor(random_state=1212)\n",
        "rf.fit(X_train, y_train)\n",
        "\n",
        "y_pred = rf.predict(X_test)\n",
        "print(\"Nos prédictions sont donc :\", y_pred)"
      ],
      "metadata": {
        "colab": {
          "base_uri": "https://localhost:8080/"
        },
        "id": "0M5IRtKRstry",
        "outputId": "aeabc1be-7cf4-4997-ed0a-bf99937e6682"
      },
      "execution_count": 105,
      "outputs": [
        {
          "output_type": "stream",
          "name": "stdout",
          "text": [
            "Nos prédictions sont donc : [0.2294 0.2279 0.2328 0.2316 0.2307 0.2293 0.2162 0.2156]\n"
          ]
        }
      ]
    },
    {
      "cell_type": "code",
      "source": [
        "MSE_0 = mean_squared_error(y_test, y_pred)\n",
        "RMSE_0 = np.sqrt(mean_squared_error(y_test,y_pred)) "
      ],
      "metadata": {
        "id": "YppVYpCnvP36"
      },
      "execution_count": 106,
      "outputs": []
    },
    {
      "cell_type": "markdown",
      "source": [
        "* **Importance des variables**"
      ],
      "metadata": {
        "id": "uP-tXQGV0wSc"
      }
    },
    {
      "cell_type": "code",
      "source": [
        "feature_scores = pd.Series(rf.feature_importances_, index=X_train.columns).sort_values(ascending=False)\n",
        "feature_scores"
      ],
      "metadata": {
        "colab": {
          "base_uri": "https://localhost:8080/"
        },
        "id": "fVvxWtusxf9t",
        "outputId": "e505cf9c-68a5-4236-9b81-a1789a4fce9d"
      },
      "execution_count": 107,
      "outputs": [
        {
          "output_type": "execute_result",
          "data": {
            "text/plain": [
              "CD_QUAL_VEH_1               0.235409\n",
              "p10_RAT_APPO                0.162239\n",
              "p25_DUR_NOT_OCT_RCAL        0.103764\n",
              "median_MT_CREA_AP_SOL_CT    0.095487\n",
              "CD_QUAL_VEH_2               0.078217\n",
              "                              ...   \n",
              "p75_DUR_IMP_ENC             0.000151\n",
              "p75_RAT_RAN_IMP_Z_DUR       0.000068\n",
              "p95_DUR_IMP_ENC             0.000065\n",
              "p90_DUR_IMP_ENC             0.000000\n",
              "mean_RAT_INC_REGU_Z_MAT     0.000000\n",
              "Length: 79, dtype: float64"
            ]
          },
          "metadata": {},
          "execution_count": 107
        }
      ]
    },
    {
      "cell_type": "code",
      "source": [
        "# On récupère nos 5 features avec l'importance la plus élevée\n",
        "indices = np.argsort(rf.feature_importances_)[-5:]\n",
        "print([X_train.columns[i] for i in indices])"
      ],
      "metadata": {
        "colab": {
          "base_uri": "https://localhost:8080/"
        },
        "id": "s0_NX1rXIQVq",
        "outputId": "d38d589a-160d-4d5d-ea90-66bb21c5b137"
      },
      "execution_count": 108,
      "outputs": [
        {
          "output_type": "stream",
          "name": "stdout",
          "text": [
            "['CD_QUAL_VEH_2', 'median_MT_CREA_AP_SOL_CT', 'p25_DUR_NOT_OCT_RCAL', 'p10_RAT_APPO', 'CD_QUAL_VEH_1']\n"
          ]
        }
      ]
    },
    {
      "cell_type": "code",
      "source": [
        "# Créez une liste vide pour stocker les fonctionnalités à supprimer.\n",
        "list_feat_to_delete = []\n",
        "\n",
        "# Boucle sur les caractéristiques de l'ensemble de données\n",
        "for i, feat_name in enumerate(X_train.columns) :\n",
        "  # Vérifier si l'importance de la caractéristique est inférieure à 0.001\n",
        "  if rf.feature_importances_[i] < 0.001 :\n",
        "    # Si l'importance de la caractéristique est inférieure à 0,001, ajoutez la caractéristique à la liste.\n",
        "    list_feat_to_delete.append(feat_name)\n",
        "\n",
        "print(\"La liste contient\", len(list_feat_to_delete), \"variables que nous supprimons (importance trop faible)\")\n",
        "\n",
        "X_train2 = X_train.drop(list_feat_to_delete, axis=1)\n",
        "\n",
        "X_test2 = X_test.drop(list_feat_to_delete, axis=1)"
      ],
      "metadata": {
        "colab": {
          "base_uri": "https://localhost:8080/"
        },
        "id": "W9npdhF4zEXn",
        "outputId": "ea04cb33-8a7e-4238-c379-42be395aa07d"
      },
      "execution_count": 109,
      "outputs": [
        {
          "output_type": "stream",
          "name": "stdout",
          "text": [
            "La liste contient 19 variables que nous supprimons (importance trop faible)\n"
          ]
        }
      ]
    },
    {
      "cell_type": "code",
      "source": [
        "rf.fit(X_train2, y_train)\n",
        "\n",
        "y_pred2 = rf.predict(X_test2)"
      ],
      "metadata": {
        "id": "WLwsJxSUzWxr"
      },
      "execution_count": 110,
      "outputs": []
    },
    {
      "cell_type": "code",
      "source": [
        "#MSE\n",
        "MSE_imp = mean_squared_error(y_test, y_pred2)\n",
        "\n",
        "#RMSE\n",
        "RMSE_imp = np.sqrt(mean_squared_error(y_test,y_pred2)) \n",
        "\n",
        "\n",
        "if MSE_imp <= MSE_0:\n",
        "  print(\"L'importance des variables nous a permis d'améliorer notre modèle : MSE_imp\",round(MSE_imp,5),\"<\", \"MSE_0\", round(MSE_0,5))\n",
        "else:\n",
        "  print(\"Raté\",round(MSE_imp,2),\">\",round(MSE_0,2))\n"
      ],
      "metadata": {
        "colab": {
          "base_uri": "https://localhost:8080/"
        },
        "id": "sDTEFk6AzhMl",
        "outputId": "30dd622e-a16d-456c-f2cb-c474ba398f56"
      },
      "execution_count": 111,
      "outputs": [
        {
          "output_type": "stream",
          "name": "stdout",
          "text": [
            "Raté 0.0 > 0.0\n"
          ]
        }
      ]
    },
    {
      "cell_type": "markdown",
      "source": [
        "* **Amélioration du modèle via GridSearch**"
      ],
      "metadata": {
        "id": "a6f3LVpN0g3K"
      }
    },
    {
      "cell_type": "code",
      "source": [
        "# On créer notre grid search d'hyperparameter\n",
        "param_grid = {\n",
        "    'n_estimators': [10, 50, 100],\n",
        "    'max_depth': [2, 4, 6, 8, 10],\n",
        "    'min_samples_split': [2, 4, 6, 8, 10],\n",
        "};\n",
        "\n",
        "# On initialise notre RF\n",
        "rf2 = RandomForestRegressor();\n",
        "\n",
        "grid_search = GridSearchCV(rf2, param_grid, cv=5, scoring='f1');\n",
        "grid_search.fit(X_train2, y_train);"
      ],
      "metadata": {
        "id": "FOVdEx7v1ILP"
      },
      "execution_count": 112,
      "outputs": []
    },
    {
      "cell_type": "code",
      "source": [
        "#On garde le meilleur modèle et on refait un grid search uniquement sur ce modèle\n",
        "print(\"La meilleur combinaison d'estimateur est: \" + str(grid_search.best_params_))"
      ],
      "metadata": {
        "colab": {
          "base_uri": "https://localhost:8080/"
        },
        "id": "Iz7q7mKD0slE",
        "outputId": "541efde0-5b62-4cc1-9ca4-a6454fc1b1b9"
      },
      "execution_count": 113,
      "outputs": [
        {
          "output_type": "stream",
          "name": "stdout",
          "text": [
            "La meilleur combinaison d'estimateur est: {'max_depth': 2, 'min_samples_split': 2, 'n_estimators': 10}\n"
          ]
        }
      ]
    },
    {
      "cell_type": "code",
      "source": [
        "#On enregistre les meilleurs paramètres dans une variable\n",
        "best_params = grid_search.best_params_"
      ],
      "metadata": {
        "id": "CzIgJbn48uv6"
      },
      "execution_count": 114,
      "outputs": []
    },
    {
      "cell_type": "code",
      "source": [
        "#On garde le meilleur modèle et on refait un grid search uniquement sur ce modèle\n",
        "rf2 = RandomForestRegressor(max_depth=2, min_samples_split=2, n_estimators=10)\n",
        "rf2.fit(X_train, y_train)"
      ],
      "metadata": {
        "colab": {
          "base_uri": "https://localhost:8080/"
        },
        "id": "Q-xqJvD9_JST",
        "outputId": "994b8629-82a7-4aa0-eb14-6eb540f36e34"
      },
      "execution_count": 115,
      "outputs": [
        {
          "output_type": "execute_result",
          "data": {
            "text/plain": [
              "RandomForestRegressor(max_depth=2, n_estimators=10)"
            ]
          },
          "metadata": {},
          "execution_count": 115
        }
      ]
    },
    {
      "cell_type": "code",
      "source": [
        "y_pred_fit = rf2.predict(X_test)\n",
        "y_pred_fit"
      ],
      "metadata": {
        "colab": {
          "base_uri": "https://localhost:8080/"
        },
        "id": "VUH0NNmv1rcn",
        "outputId": "7346e9ed-52e4-4910-b5f0-d950568c9f83"
      },
      "execution_count": 116,
      "outputs": [
        {
          "output_type": "execute_result",
          "data": {
            "text/plain": [
              "array([0.22339683, 0.22764683, 0.22481944, 0.21948611, 0.22023611,\n",
              "       0.23479167, 0.210971  , 0.21591544])"
            ]
          },
          "metadata": {},
          "execution_count": 116
        }
      ]
    },
    {
      "cell_type": "code",
      "source": [
        "MSE_fit = mean_squared_error(y_test, y_pred_fit)\n",
        "RMSE_fit = np.sqrt(mean_squared_error(y_test,y_pred_fit)) \n",
        "\n",
        "if MSE_0>MSE_imp:\n",
        "  if MSE_fit<=MSE_imp:\n",
        "    print(\"La recherche des hyperparamètres optimaux nous a permis d'améliorer notre modèle : MSE_fit\",round(MSE_fit,4),\"<\", \"MSE_imp\", round(MSE_imp,4))\n",
        "  else:\n",
        "    print(\"Raté\",round(MSE_fit,4),\">\",round(MSE_imp,4))   \n",
        "else:\n",
        "  if MSE_0<=MSE_imp:\n",
        "    print(\"La recherche des hyperparamètres optimaux nous a permis d'améliorer notre modèle : MSE_fit\",round(MSE_fit,4),\"<\", \"MSE_0\", round(MSE_0,4))\n",
        "  else:\n",
        "    print(\"Raté\",round(MSE_fit,4),\">\",round(MSE_0,4)) "
      ],
      "metadata": {
        "id": "RrD2k7RZ_CDB"
      },
      "execution_count": 119,
      "outputs": []
    },
    {
      "cell_type": "code",
      "source": [
        "if MSE_fit > MSE_0 and MSE_imp > MSE_0:\n",
        "  print(\"Nous gardons donc le modèle de base (0)\")\n",
        "elif MSE_fit > MSE_0 and MSE_imp < MSE_0:\n",
        "  print(\"Nous gardons donc le modèle basé sur l'importance des variables\")\n",
        "else:\n",
        "  print(\"Nous gardons le modèle qui combine le modèle tuné et l'importance des variables\")"
      ],
      "metadata": {
        "colab": {
          "base_uri": "https://localhost:8080/"
        },
        "id": "sO3bu048ZrCs",
        "outputId": "34f720f8-24fe-45b9-8555-5e07a3d8d150"
      },
      "execution_count": 120,
      "outputs": [
        {
          "output_type": "stream",
          "name": "stdout",
          "text": [
            "Nous gardons le modèle qui combine le modèle tuné et l'importance des variables\n"
          ]
        }
      ]
    },
    {
      "cell_type": "markdown",
      "source": [
        "## Modélisation RF sur Base_chr8"
      ],
      "metadata": {
        "id": "tAAY89iX_CDE"
      }
    },
    {
      "cell_type": "markdown",
      "source": [
        "*  **Préparation de nos jeux tests set d'entraînement pour BASE_CHR2**"
      ],
      "metadata": {
        "id": "01Gou0sC_CDF"
      }
    },
    {
      "cell_type": "code",
      "source": [
        "# On créé notre X (tous nos predicteurs)\n",
        "X = db_chr8.iloc[:,1:] \n",
        "# On créé notre y (unicolonne)\n",
        "y = db_chr8.iloc[:,0] \n",
        "\n",
        "# Jeu d'entrainement\n",
        "X_train = X.iloc[:24,:] \n",
        "y_train = y.iloc[:24]\n",
        "\n",
        "# Jeu test\n",
        "# On garde les 8 dernières observations pour les prévisions\n",
        "X_test = X.iloc[25:,:] \n",
        "y_test = y.iloc[25:]"
      ],
      "metadata": {
        "id": "d4-gPkco_CDF"
      },
      "execution_count": 9,
      "outputs": []
    },
    {
      "cell_type": "code",
      "source": [
        "# Créer un modèle de forêt aléatoire\n",
        "rf = RandomForestRegressor(random_state=1212)\n",
        "rf.fit(X_train, y_train)\n",
        "\n",
        "y_pred = rf.predict(X_test)\n",
        "print(\"Nos prédictions sont donc :\", y_pred)"
      ],
      "metadata": {
        "colab": {
          "base_uri": "https://localhost:8080/"
        },
        "outputId": "b225016e-0f6f-4e62-c739-ccb7c92cc1da",
        "id": "Y64y3EDh_CDG"
      },
      "execution_count": 10,
      "outputs": [
        {
          "output_type": "stream",
          "name": "stdout",
          "text": [
            "Nos prédictions sont donc : [14.1045 14.2681 14.0707 14.1762 14.7387 15.0563 15.0298 15.012 ]\n"
          ]
        }
      ]
    },
    {
      "cell_type": "code",
      "source": [
        "MSE_0 = mean_squared_error(y_test, y_pred)\n",
        "RMSE_0 = np.sqrt(mean_squared_error(y_test,y_pred)) "
      ],
      "metadata": {
        "id": "vklXBNqZ_CDG"
      },
      "execution_count": 11,
      "outputs": []
    },
    {
      "cell_type": "markdown",
      "source": [
        "* **Importance des variables**"
      ],
      "metadata": {
        "id": "he9xwf3s_CDH"
      }
    },
    {
      "cell_type": "code",
      "source": [
        "feature_scores = pd.Series(rf.feature_importances_, index=X_train.columns).sort_values(ascending=False)\n",
        "feature_scores"
      ],
      "metadata": {
        "colab": {
          "base_uri": "https://localhost:8080/"
        },
        "outputId": "4a54742e-43c4-411d-dd96-dd98092d919a",
        "id": "g4m3U4e__CDH"
      },
      "execution_count": 12,
      "outputs": [
        {
          "output_type": "execute_result",
          "data": {
            "text/plain": [
              "p95_RAT_INC_REGU_Z_MAT     0.285340\n",
              "p90_RAT_INC_REGU_Z_MAT     0.241991\n",
              "mean_RAT_INC_REGU_Z_MAT    0.098117\n",
              "p25_MT_CREA_AP_SOL_CT      0.059761\n",
              "p75_RAT_INC_REGU_Z_MAT     0.049882\n",
              "                             ...   \n",
              "p10_DUR_IMP_ENC            0.000284\n",
              "p25_DUR_MAX_IMP            0.000119\n",
              "PIB                        0.000112\n",
              "p95_DUR_MAX_IMP            0.000054\n",
              "median_DUR_MAX_IMP         0.000022\n",
              "Length: 83, dtype: float64"
            ]
          },
          "metadata": {},
          "execution_count": 12
        }
      ]
    },
    {
      "cell_type": "code",
      "source": [
        "# On récupère nos 5 features avec l'importance la plus élevée\n",
        "indices = np.argsort(rf.feature_importances_)[-5:]\n",
        "print([X_train.columns[i] for i in indices])"
      ],
      "metadata": {
        "colab": {
          "base_uri": "https://localhost:8080/"
        },
        "id": "UeCRjH6vIT2T",
        "outputId": "18aa3b6b-56a8-4813-8662-c6c40c059cf3"
      },
      "execution_count": 13,
      "outputs": [
        {
          "output_type": "stream",
          "name": "stdout",
          "text": [
            "['p75_RAT_INC_REGU_Z_MAT', 'p25_MT_CREA_AP_SOL_CT', 'mean_RAT_INC_REGU_Z_MAT', 'p90_RAT_INC_REGU_Z_MAT', 'p95_RAT_INC_REGU_Z_MAT']\n"
          ]
        }
      ]
    },
    {
      "cell_type": "code",
      "source": [
        "# Créer une liste vide pour stocker les fonctionnalités à supprimer.\n",
        "list_feat_to_delete = []\n",
        "\n",
        "# Boucle sur les caractéristiques de l'ensemble de données\n",
        "for i, feat_name in enumerate(X_train.columns) :\n",
        "  # Vérifier si l'importance de la caractéristique est inférieure à 0.001\n",
        "  if rf.feature_importances_[i] < 0.001 :\n",
        "    # Si l'importance de la caractéristique est inférieure à 0,001, ajoutez la caractéristique à la liste.\n",
        "    list_feat_to_delete.append(feat_name)\n",
        "\n",
        "print(\"La liste contient\", len(list_feat_to_delete), \"variables que nous supprimons (importance trop faible)\")\n",
        "\n",
        "X_train2 = X_train.drop(list_feat_to_delete, axis=1)\n",
        "\n",
        "X_test2 = X_test.drop(list_feat_to_delete, axis=1)"
      ],
      "metadata": {
        "colab": {
          "base_uri": "https://localhost:8080/"
        },
        "outputId": "16cdc885-379c-4138-b919-97e461807790",
        "id": "TBK6xm7q_CDI"
      },
      "execution_count": 14,
      "outputs": [
        {
          "output_type": "stream",
          "name": "stdout",
          "text": [
            "La liste contient 24 variables que nous supprimons (importance trop faible)\n"
          ]
        }
      ]
    },
    {
      "cell_type": "code",
      "source": [
        "rf.fit(X_train2, y_train)\n",
        "\n",
        "y_pred2 = rf.predict(X_test2)"
      ],
      "metadata": {
        "id": "D99RxnqB_CDI"
      },
      "execution_count": 15,
      "outputs": []
    },
    {
      "cell_type": "code",
      "source": [
        "#MSE\n",
        "MSE_imp = mean_squared_error(y_test, y_pred2)\n",
        "\n",
        "#RMSE\n",
        "RMSE_imp = np.sqrt(mean_squared_error(y_test,y_pred2)) \n",
        "\n",
        "if MSE_imp <= MSE_0:\n",
        "  print(\"L'importance des variables nous a permis d'améliorer notre modèle : MSE_imp\",round(MSE_imp,4),\"<\", \"MSE_0\", round(MSE_0,4))\n",
        "else:\n",
        "  print(\"Raté\",round(MSE_imp,2),\">\",round(MSE_0,2))"
      ],
      "metadata": {
        "colab": {
          "base_uri": "https://localhost:8080/"
        },
        "outputId": "e057a7ac-95a1-4afd-d5cb-d0f9c163643b",
        "id": "D_ABipTz_CDM"
      },
      "execution_count": 16,
      "outputs": [
        {
          "output_type": "stream",
          "name": "stdout",
          "text": [
            "L'importance des variables nous a permis d'améliorer notre modèle : MSE_imp 1.6671 < MSE_0 1.7983\n"
          ]
        }
      ]
    },
    {
      "cell_type": "markdown",
      "source": [
        "* **Amélioration du modèle via GridSearch**"
      ],
      "metadata": {
        "id": "u32CF00h_CDN"
      }
    },
    {
      "cell_type": "code",
      "source": [
        "# On créer notre grid search d'hyperparameter\n",
        "param_grid = {\n",
        "    'n_estimators': [10, 50, 100],\n",
        "    'max_depth': [2, 4, 6, 8, 10],\n",
        "    'min_samples_split': [2, 4, 6, 8, 10],\n",
        "}\n",
        "\n",
        "# On initialise notre RF\n",
        "rf2 = RandomForestRegressor()\n",
        "\n",
        "grid_search = GridSearchCV(rf2, param_grid, cv=5, scoring='f1')\n",
        "grid_search.fit(X_train2, y_train)"
      ],
      "metadata": {
        "colab": {
          "base_uri": "https://localhost:8080/"
        },
        "id": "B6fBh94o_CDO",
        "outputId": "5ce1c1b4-b02d-4827-8d35-6e2608756cc9"
      },
      "execution_count": 17,
      "outputs": [
        {
          "output_type": "execute_result",
          "data": {
            "text/plain": [
              "GridSearchCV(cv=5, estimator=RandomForestRegressor(),\n",
              "             param_grid={'max_depth': [2, 4, 6, 8, 10],\n",
              "                         'min_samples_split': [2, 4, 6, 8, 10],\n",
              "                         'n_estimators': [10, 50, 100]},\n",
              "             scoring='f1')"
            ]
          },
          "metadata": {},
          "execution_count": 17
        }
      ]
    },
    {
      "cell_type": "code",
      "source": [
        "#On garde le meilleur modèle et on refait un grid search uniquement sur ce modèle\n",
        "print(\"La meilleur combinaison d'estimateur est: \" + str(grid_search.best_params_))"
      ],
      "metadata": {
        "id": "cE3eKgbL_CDO",
        "colab": {
          "base_uri": "https://localhost:8080/"
        },
        "outputId": "a62fd001-3311-4c52-9058-da31b2fd7072"
      },
      "execution_count": 18,
      "outputs": [
        {
          "output_type": "stream",
          "name": "stdout",
          "text": [
            "La meilleur combinaison d'estimateur est: {'max_depth': 2, 'min_samples_split': 2, 'n_estimators': 10}\n"
          ]
        }
      ]
    },
    {
      "cell_type": "code",
      "source": [
        "#On enregistre les meilleurs paramètres dans une variable\n",
        "best_params = grid_search.best_params_"
      ],
      "metadata": {
        "id": "CBxRT9vC_CDP"
      },
      "execution_count": 19,
      "outputs": []
    },
    {
      "cell_type": "code",
      "source": [
        "#On garde le meilleur modèle et on refait un grid search uniquement sur ce modèle\n",
        "rf2 = RandomForestRegressor(max_depth=2, min_samples_split=2, n_estimators=10)\n",
        "rf2.fit(X_train, y_train)"
      ],
      "metadata": {
        "id": "mH-sHZzp_CDP",
        "colab": {
          "base_uri": "https://localhost:8080/"
        },
        "outputId": "3c550232-b9b4-4f28-88f4-9214c23d86ae"
      },
      "execution_count": 20,
      "outputs": [
        {
          "output_type": "execute_result",
          "data": {
            "text/plain": [
              "RandomForestRegressor(max_depth=2, n_estimators=10)"
            ]
          },
          "metadata": {},
          "execution_count": 20
        }
      ]
    },
    {
      "cell_type": "code",
      "source": [
        "y_pred_fit = rf2.predict(X_test)\n",
        "y_pred_fit"
      ],
      "metadata": {
        "id": "DwCeYTJS_CDQ",
        "colab": {
          "base_uri": "https://localhost:8080/"
        },
        "outputId": "6908540e-bc2e-4af1-e888-4e2f57b0763f"
      },
      "execution_count": 21,
      "outputs": [
        {
          "output_type": "execute_result",
          "data": {
            "text/plain": [
              "array([14.04231742, 14.1858829 , 14.02336504, 14.13120595, 14.60895433,\n",
              "       14.80029123, 14.86016266, 14.81921623])"
            ]
          },
          "metadata": {},
          "execution_count": 21
        }
      ]
    },
    {
      "cell_type": "code",
      "source": [
        "MSE_fit = mean_squared_error(y_test, y_pred_fit)\n",
        "RMSE_fit = np.sqrt(mean_squared_error(y_test,y_pred_fit)) \n",
        "\n",
        "if MSE_0>MSE_imp:\n",
        "  if MSE_fit<=MSE_imp:\n",
        "    print(\"La recherche des hyperparamètres optimaux nous a permis d'améliorer notre modèle : MSE_fit\",round(MSE_fit,4),\"<\", \"MSE_imp\", round(MSE_imp,4))\n",
        "  else:\n",
        "    print(\"Raté\",round(MSE_fit,4),\">\",round(MSE_imp,4))   \n",
        "else:\n",
        "  if MSE_0<=MSE_imp:\n",
        "    print(\"La recherche des hyperparamètres optimaux nous a permis d'améliorer notre modèle : MSE_fit\",round(MSE_fit,4),\"<\", \"MSE_0\", round(MSE_0,4))\n",
        "  else:\n",
        "    print(\"Raté\",round(MSE_fit,4),\">\",round(MSE_0,4)) "
      ],
      "metadata": {
        "id": "oQ4Sgikx_CDQ",
        "colab": {
          "base_uri": "https://localhost:8080/"
        },
        "outputId": "c886c2b7-4750-4f2e-b1ec-309306c49b29"
      },
      "execution_count": 22,
      "outputs": [
        {
          "output_type": "stream",
          "name": "stdout",
          "text": [
            "La recherche des hyperparamètres optimaux nous a permis d'améliorer notre modèle : MSE_fit 1.4899 < MSE_imp 1.6671\n"
          ]
        }
      ]
    },
    {
      "cell_type": "code",
      "source": [
        "if MSE_fit > MSE_0 and MSE_imp > MSE_0:\n",
        "  print(\"Nous gardons donc le modèle de base (0)\")\n",
        "elif MSE_fit > MSE_0 and MSE_imp < MSE_0:\n",
        "  print(\"Nous gardons donc le modèle basé sur l'importance des variables\")\n",
        "else:\n",
        "  print(\"Nous gardons le modèle qui combine le modèle tuné et l'importance des variables\")"
      ],
      "metadata": {
        "id": "TS1kR_YJNL2Z",
        "colab": {
          "base_uri": "https://localhost:8080/"
        },
        "outputId": "a317b824-7a91-4c96-db1e-3c89686cc9e4"
      },
      "execution_count": 23,
      "outputs": [
        {
          "output_type": "stream",
          "name": "stdout",
          "text": [
            "Nous gardons le modèle qui combine le modèle tuné et l'importance des variables\n"
          ]
        }
      ]
    }
  ],
  "metadata": {
    "colab": {
      "provenance": []
    },
    "kernelspec": {
      "display_name": "Python 3",
      "name": "python3"
    },
    "language_info": {
      "name": "python"
    }
  },
  "nbformat": 4,
  "nbformat_minor": 0
}